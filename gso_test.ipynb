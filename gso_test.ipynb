{
 "metadata": {
  "language_info": {
   "codemirror_mode": {
    "name": "ipython",
    "version": 3
   },
   "file_extension": ".py",
   "mimetype": "text/x-python",
   "name": "python",
   "nbconvert_exporter": "python",
   "pygments_lexer": "ipython3",
   "version": "3.6.12-final"
  },
  "orig_nbformat": 2,
  "kernelspec": {
   "name": "python3",
   "display_name": "Python 3.6.12 64-bit ('porr_venv')",
   "metadata": {
    "interpreter": {
     "hash": "0521cef5a0d733b79d5ed6b9ed0f9bcfad85c68f78f0aabe0caf6ffa4c3ecab3"
    }
   }
  }
 },
 "nbformat": 4,
 "nbformat_minor": 2,
 "cells": [
  {
   "cell_type": "code",
   "execution_count": 12,
   "metadata": {},
   "outputs": [],
   "source": [
    "import copy\n",
    "import numpy as np\n",
    "import matplotlib.cm as cm\n",
    "import matplotlib.pyplot as plt\n",
    "import matplotlib.patches as mpatches\n",
    "from matplotlib.collections import PatchCollection\n",
    "from scipy.spatial import distance as dist"
   ]
  },
  {
   "cell_type": "code",
   "execution_count": 10,
   "metadata": {},
   "outputs": [],
   "source": [
    "class GSO:\n",
    "\n",
    "    nturns = 2\n",
    "    num_worms \n",
    "    best_worm\n",
    "    LCv # Luciferin value\n",
    "\n",
    "    def __init__(self, num_worms, luciferin_value):\n",
    "        self.num_worms = num_worms\n",
    "        self.LCv = luciferin_value\n",
    "\n",
    "    def init_worms(self):\n",
    "        return np.random.rand(self.num_worms,1) * 10\n",
    "\n",
    "    def next_turn(self, population, im):\n",
    "        n_turn = copy.deepcopy(population)\n",
    "\n",
    "        self.keep_in_bounds()\n",
    "\n",
    "    def keep_in_bounds(self, x, dims):\n",
    "        if x < 0:\n",
    "            return 0\n",
    "        elif x > dims:\n",
    "            return dims\n",
    "        else:\n",
    "            return x\n",
    "\n",
    "    def fitness_function(self, xy_tuple):\n",
    "        x = xy_tuple[0]/2\n",
    "        x = dist.euclidean(xy_tuple[0], xy_tuple[1])\n",
    "        return np.sin(x**3+ (y-5)**3) + np.cos((y-5)**2) *10 + np.cos(x*2) * 12 * (y-5)\n",
    "\n",
    "    def influence_matrix(self, population, score):\n",
    "        graph = np.array([np.zeros(self.num_worms)] * self.num_worms)\n",
    "\n",
    "        for i in range(self.num_worms):\n",
    "            for j in range(self.num_worms):\n",
    "                if i == j:\n",
    "                    graph[i][j] = 0\n",
    "                elif dist.euclidean(pop[i], pop[j]) <= score[j]:\n",
    "                    graph[i][j] = dist.euclidean(pop[i], pop[j])\n",
    "                else:\n",
    "                    continue\n",
    "        return graph\n",
    "\n",
    "    def run_algorithm(self):\n",
    "        population = self.init_worms()\n",
    "\n",
    "        for turn in range(self.nturns):\n",
    "            im = self.influence_matrix(pop,score)\n",
    "            population = copy.deepcopy(self.next_turn(population, im))\n"
   ]
  },
  {
   "cell_type": "code",
   "execution_count": 18,
   "metadata": {},
   "outputs": [],
   "source": [
    "num_worms = 10\n",
    "population = np.random.rand(num_worms,1) * 10\n",
    "graph = np.array([np.zeros(num_worms)] * num_worms)"
   ]
  },
  {
   "cell_type": "code",
   "execution_count": null,
   "metadata": {},
   "outputs": [],
   "source": [
    "def fitness_function(xy_tuple):\n",
    "    x = xy_tuple[0]/2\n",
    "    x = dist.euclidean(xy_tuple[0], xy_tuple[1])\n",
    "    sol = np.array(sol)\n",
    "    for i in range(1,d,1):\n",
    "        fc_a = fc_a +(sol[i]**2.0)\n",
    "        fc_b = fc_b * math.cos(sol[i]/i)\n",
    "\n",
    "    fc_final = 1/40 * fc_a + 1 - fc_b\n",
    "    return fc_final\n",
    "\n",
    "def Function1(d, sol):\n",
    "    fc_a = 0.0\n",
    "    fc_b = 0.0\n",
    "    sol = np.array(sol)\n",
    "    for i in range(1,d,1):\n",
    "        fc_a = fc_a +(sol[i]**2.0)\n",
    "        fc_b = fc_b * math.cos(sol[i]/i)\n",
    "\n",
    "    fc_final = 1/40 * fc_a + 1 - fc_b\n",
    "    return fc_final"
   ]
  },
  {
   "cell_type": "code",
   "execution_count": 2,
   "metadata": {},
   "outputs": [
    {
     "output_type": "error",
     "ename": "NameError",
     "evalue": "name 'time' is not defined",
     "traceback": [
      "\u001b[0;31m---------------------------------------------------------------------------\u001b[0m",
      "\u001b[0;31mNameError\u001b[0m                                 Traceback (most recent call last)",
      "\u001b[0;32m<ipython-input-2-90a5c5a160a2>\u001b[0m in \u001b[0;36m<module>\u001b[0;34m\u001b[0m\n\u001b[1;32m      1\u001b[0m \u001b[0;32mfrom\u001b[0m \u001b[0mtermcolor\u001b[0m \u001b[0;32mimport\u001b[0m \u001b[0mcolored\u001b[0m\u001b[0;34m\u001b[0m\u001b[0;34m\u001b[0m\u001b[0m\n\u001b[1;32m      2\u001b[0m \u001b[0;34m\u001b[0m\u001b[0m\n\u001b[0;32m----> 3\u001b[0;31m \u001b[0mstyle\u001b[0m \u001b[0;34m=\u001b[0m \u001b[0mcolored\u001b[0m\u001b[0;34m(\u001b[0m\u001b[0;34m(\u001b[0m\u001b[0mtime\u001b[0m\u001b[0;34m.\u001b[0m\u001b[0mtime\u001b[0m\u001b[0;34m(\u001b[0m\u001b[0;34m)\u001b[0m \u001b[0;34m-\u001b[0m \u001b[0mstart_time\u001b[0m\u001b[0;34m)\u001b[0m\u001b[0;34m,\u001b[0m \u001b[0mattrs\u001b[0m\u001b[0;34m=\u001b[0m\u001b[0;34m[\u001b[0m\u001b[0;34m'bold'\u001b[0m\u001b[0;34m]\u001b[0m\u001b[0;34m)\u001b[0m\u001b[0;34m\u001b[0m\u001b[0;34m\u001b[0m\u001b[0m\n\u001b[0m",
      "\u001b[0;31mNameError\u001b[0m: name 'time' is not defined"
     ]
    }
   ],
   "source": [
    "from termcolor import colored\n",
    "import time\n",
    "\n",
    "start_time = time.time()\n",
    "style = colored((time.time() - start_time), attrs=['bold'])"
   ]
  },
  {
   "cell_type": "code",
   "execution_count": null,
   "metadata": {},
   "outputs": [],
   "source": []
  }
 ]
}